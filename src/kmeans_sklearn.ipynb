{
 "cells": [
  {
   "cell_type": "code",
   "execution_count": 24,
   "metadata": {},
   "outputs": [],
   "source": [
    "from sklearn.neighbors import KNeighborsClassifier\n",
    "from sklearn.model_selection import train_test_split\n",
    "import numpy as np\n",
    "import data_loader"
   ]
  },
  {
   "cell_type": "code",
   "execution_count": 26,
   "metadata": {},
   "outputs": [
    {
     "name": "stdout",
     "output_type": "stream",
     "text": [
      "haobin_11_22\n",
      "kevin_11_7\n",
      "russell_11_7\n",
      "kelly_11_7\n",
      "russell_11_20_stand\n"
     ]
    }
   ],
   "source": [
    "xs, ys = data_loader.verified_subjects_calibrated_yprs(resampled=True, flatten=True)"
   ]
  },
  {
   "cell_type": "code",
   "execution_count": 73,
   "metadata": {},
   "outputs": [],
   "source": [
    "xs = np.array(xs)\n",
    "ys = np.array(ys)"
   ]
  },
  {
   "cell_type": "code",
   "execution_count": 74,
   "metadata": {},
   "outputs": [],
   "source": [
    "trainx, testx, trainy, testy = train_test_split(xs, ys, test_size=0.2)"
   ]
  },
  {
   "cell_type": "code",
   "execution_count": 75,
   "metadata": {},
   "outputs": [
    {
     "data": {
      "text/plain": [
       "((2088, 300), (2088,), (522, 300), (522,))"
      ]
     },
     "execution_count": 75,
     "metadata": {},
     "output_type": "execute_result"
    }
   ],
   "source": [
    "trainx.shape, trainy.shape, testx.shape, testy.shape"
   ]
  },
  {
   "cell_type": "code",
   "execution_count": 76,
   "metadata": {},
   "outputs": [
    {
     "name": "stdout",
     "output_type": "stream",
     "text": [
      "Running KNN with n=2\n",
      "Running KNN with n=3\n",
      "Running KNN with n=4\n",
      "Running KNN with n=5\n",
      "Running KNN with n=6\n",
      "Running KNN with n=7\n",
      "Running KNN with n=8\n",
      "Running KNN with n=9\n",
      "Running KNN with n=10\n",
      "Running KNN with n=11\n",
      "Running KNN with n=12\n",
      "Running KNN with n=13\n",
      "Running KNN with n=14\n"
     ]
    }
   ],
   "source": [
    "test_acc = {}\n",
    "\n",
    "for num_neighbor in range(2, 15):\n",
    "    print(f'Running KNN with n={num_neighbor}')\n",
    "    \n",
    "    clf = KNeighborsClassifier(n_neighbors=num_neighbor)\n",
    "    clf.fit(trainx, trainy)\n",
    "    \n",
    "    pred = clf.predict(testx)\n",
    "    correct_pred = (pred-testy == 0).astype(int)\n",
    "    \n",
    "    acc = np.sum(correct_pred) / pred.shape[0]\n",
    "    test_acc[num_neighbor] = acc"
   ]
  },
  {
   "cell_type": "code",
   "execution_count": 77,
   "metadata": {},
   "outputs": [
    {
     "data": {
      "text/plain": [
       "{2: 0.7816091954022989,\n",
       " 3: 0.8084291187739464,\n",
       " 4: 0.7777777777777778,\n",
       " 5: 0.7873563218390804,\n",
       " 6: 0.7624521072796935,\n",
       " 7: 0.764367816091954,\n",
       " 8: 0.7528735632183908,\n",
       " 9: 0.7394636015325671,\n",
       " 10: 0.7318007662835249,\n",
       " 11: 0.7241379310344828,\n",
       " 12: 0.7298850574712644,\n",
       " 13: 0.7279693486590039,\n",
       " 14: 0.7011494252873564}"
      ]
     },
     "execution_count": 77,
     "metadata": {},
     "output_type": "execute_result"
    }
   ],
   "source": [
    "test_acc"
   ]
  },
  {
   "cell_type": "code",
   "execution_count": null,
   "metadata": {},
   "outputs": [],
   "source": []
  },
  {
   "cell_type": "code",
   "execution_count": null,
   "metadata": {},
   "outputs": [],
   "source": []
  }
 ],
 "metadata": {
  "kernelspec": {
   "display_name": "Python 3",
   "language": "python",
   "name": "python3"
  },
  "language_info": {
   "codemirror_mode": {
    "name": "ipython",
    "version": 3
   },
   "file_extension": ".py",
   "mimetype": "text/x-python",
   "name": "python",
   "nbconvert_exporter": "python",
   "pygments_lexer": "ipython3",
   "version": "3.7.5"
  }
 },
 "nbformat": 4,
 "nbformat_minor": 2
}
