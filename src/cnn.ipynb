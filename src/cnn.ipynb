{
 "cells": [
  {
   "cell_type": "code",
   "execution_count": 1,
   "metadata": {},
   "outputs": [],
   "source": [
    "import torch\n",
    "import data_loader\n",
    "import torch.nn as nn\n",
    "import torch.nn.functional as F\n",
    "import torch.optim as optim\n",
    "import os\n",
    "import json\n",
    "from collections import defaultdict\n",
    "import autoencoder\n",
    "import numpy as np"
   ]
  },
  {
   "cell_type": "code",
   "execution_count": 2,
   "metadata": {},
   "outputs": [
    {
     "data": {
      "text/plain": [
       "True"
      ]
     },
     "execution_count": 2,
     "metadata": {},
     "output_type": "execute_result"
    }
   ],
   "source": [
    "torch.cuda.is_available()"
   ]
  },
  {
   "cell_type": "code",
   "execution_count": 49,
   "metadata": {},
   "outputs": [
    {
     "name": "stdout",
     "output_type": "stream",
     "text": [
      "train_subjects ['albert', 'canon_12_5', 'chen', 'daniel', 'isa_12_5', 'joanne', 'jq_12_6', 'kelly_11_7', 'kevin_11_7', 'ruocheng', 'russell_11_20_stand', 'russell_random_12_7', 'solomon', 'yiheng_11_30', 'yiheng_12_5', 'yongxu_11_30', 'zhaoye']\n",
      "dev_subjects ['wenzhou_12_5', 'haobin_11_22']\n",
      "test_subjects ['janet', 'russell_11_7']\n",
      "Processing albert\n",
      "Processing canon_12_5\n",
      "Processing chen\n",
      "Processing daniel\n",
      "Processing isa_12_5\n",
      "Processing joanne\n",
      "Processing jq_12_6\n",
      "Processing kelly_11_7\n",
      "Processing kevin_11_7\n",
      "Processing ruocheng\n",
      "Processing russell_11_20_stand\n",
      "Processing russell_random_12_7\n",
      "Processing solomon\n",
      "Processing yiheng_11_30\n",
      "Processing yiheng_12_5\n",
      "Processing yongxu_11_30\n",
      "Processing zhaoye\n",
      "Processing wenzhou_12_5\n",
      "Processing haobin_11_22\n",
      "Processing janet\n",
      "Processing russell_11_7\n"
     ]
    }
   ],
   "source": [
    "trainx, devx, testx, trainy, devy, testy = data_loader.load_all_classic_random_split(flatten=False)\n",
    "# trainx, devx, testx, trainy, devy, testy = data_loader.load_all_subject_split(flatten=False)"
   ]
  },
  {
   "cell_type": "code",
   "execution_count": 50,
   "metadata": {},
   "outputs": [
    {
     "name": "stdout",
     "output_type": "stream",
     "text": [
      "Augmenting TRAIN set with proportion 4\n"
     ]
    },
    {
     "data": {
      "text/plain": [
       "((41810, 100, 3), (1039, 100, 3), (1000, 100, 3), (41810,), (1039,), (1000,))"
      ]
     },
     "execution_count": 50,
     "metadata": {},
     "output_type": "execute_result"
    }
   ],
   "source": [
    "trainx, trainy = data_loader.augment_train_set(trainx, trainy, augment_prop=4, is_flattened=False)\n",
    "trainx.shape, devx.shape, testx.shape, trainy.shape, devy.shape, testy.shape"
   ]
  },
  {
   "cell_type": "code",
   "execution_count": 66,
   "metadata": {},
   "outputs": [],
   "source": [
    "# def split_ypr(x):\n",
    "#     return x[:,:,0],x[:,:,1], x[:,:,2]"
   ]
  },
  {
   "cell_type": "code",
   "execution_count": 67,
   "metadata": {
    "scrolled": true
   },
   "outputs": [],
   "source": [
    "# _,_,_,encoder = autoencoder.ae_denoise(*split_ypr(trainx))"
   ]
  },
  {
   "cell_type": "code",
   "execution_count": 68,
   "metadata": {},
   "outputs": [],
   "source": [
    "# def encode(x, encoder):\n",
    "#     y,p,r = autoencoder.ae_predict(*split_ypr(x), encoder)\n",
    "#     return np.stack((y,p,r), axis=2)\n",
    "\n",
    "# trainx = encode(trainx, encoder)\n",
    "# devx = encode(devx, encoder)\n",
    "# testx = encode(testx, encoder)"
   ]
  },
  {
   "cell_type": "code",
   "execution_count": 54,
   "metadata": {},
   "outputs": [
    {
     "data": {
      "text/plain": [
       "((41810, 100, 3), (1039, 100, 3), (1000, 100, 3), (41810,), (1039,), (1000,))"
      ]
     },
     "execution_count": 54,
     "metadata": {},
     "output_type": "execute_result"
    }
   ],
   "source": [
    "trainx.shape, devx.shape, testx.shape, trainy.shape, devy.shape, testy.shape"
   ]
  },
  {
   "cell_type": "code",
   "execution_count": 55,
   "metadata": {},
   "outputs": [],
   "source": [
    "BATCH_SIZE = 500\n",
    "\n",
    "def get_dataloader(x, y, batch_size):\n",
    "    dataset = [(x[i].T, y[i]) for i in range(y.shape[0])]\n",
    "    dataloader = torch.utils.data.DataLoader(dataset, batch_size=batch_size, shuffle=True)\n",
    "    return dataloader\n",
    "\n",
    "trainloader = get_dataloader(trainx, trainy, BATCH_SIZE)\n",
    "devloader = get_dataloader(devx, devy, BATCH_SIZE)\n",
    "testloader = get_dataloader(testx, testy, BATCH_SIZE)"
   ]
  },
  {
   "cell_type": "code",
   "execution_count": 56,
   "metadata": {},
   "outputs": [
    {
     "data": {
      "text/plain": [
       "(100, 3)"
      ]
     },
     "execution_count": 56,
     "metadata": {},
     "output_type": "execute_result"
    }
   ],
   "source": [
    "_, num_feature, num_channel = trainx.shape\n",
    "num_feature, num_channel"
   ]
  },
  {
   "cell_type": "code",
   "execution_count": 57,
   "metadata": {},
   "outputs": [],
   "source": [
    "def acc_loss(data_loader, criterion):\n",
    "    correct = 0\n",
    "    total = 0\n",
    "    total_loss = 0.0\n",
    "    with torch.no_grad():\n",
    "        for data in data_loader:\n",
    "            x, y = data\n",
    "            if torch.cuda.is_available():\n",
    "                x = x.cuda()\n",
    "                y = y.cuda()\n",
    "                \n",
    "            outputs = net(x.float())\n",
    "            _, predicted = torch.max(outputs.data, 1)\n",
    "            \n",
    "            w = torch.sum((predicted - y) != 0).item()\n",
    "            r = len(y) - w\n",
    "            correct += r \n",
    "            total += len(y)\n",
    "            \n",
    "            total_loss += criterion(outputs, y.long()).item() * len(x)\n",
    "    return correct / total, total_loss / total"
   ]
  },
  {
   "cell_type": "code",
   "execution_count": 58,
   "metadata": {},
   "outputs": [
    {
     "data": {
      "text/plain": [
       "Net(\n",
       "  (conv1): Conv1d(3, 16, kernel_size=(3,), stride=(1,), padding=(1,))\n",
       "  (pool1): MaxPool1d(kernel_size=3, stride=1, padding=1, dilation=1, ceil_mode=False)\n",
       "  (conv2): Conv1d(16, 32, kernel_size=(5,), stride=(1,), padding=(2,))\n",
       "  (pool2): MaxPool1d(kernel_size=5, stride=1, padding=2, dilation=1, ceil_mode=False)\n",
       "  (conv3): Conv1d(32, 64, kernel_size=(5,), stride=(1,), padding=(2,))\n",
       "  (pool3): MaxPool1d(kernel_size=5, stride=1, padding=2, dilation=1, ceil_mode=False)\n",
       "  (fc1): Linear(in_features=6400, out_features=3200, bias=True)\n",
       "  (fc2): Linear(in_features=3200, out_features=1600, bias=True)\n",
       "  (fc3): Linear(in_features=1600, out_features=500, bias=True)\n",
       "  (out): Linear(in_features=500, out_features=26, bias=True)\n",
       ")"
      ]
     },
     "execution_count": 58,
     "metadata": {},
     "output_type": "execute_result"
    }
   ],
   "source": [
    "class Net(nn.Module):\n",
    "    def __init__(self):\n",
    "        super(Net, self).__init__()\n",
    "        self.conv1 = nn.Conv1d(\n",
    "            in_channels=3, out_channels=16, kernel_size=3, stride=1, padding=1\n",
    "        )  \n",
    "        # 16 channel, num_feature\n",
    "        self.pool1 = nn.MaxPool1d(kernel_size=3, stride=1, padding=1)\n",
    "        # 16 channel, num_feature\n",
    "\n",
    "        self.conv2 = nn.Conv1d(\n",
    "            in_channels=16, out_channels=32, kernel_size=5, stride=1, padding=2\n",
    "        )\n",
    "        # 32 channel, num_feature\n",
    "        self.pool2 = nn.MaxPool1d(kernel_size=5, stride=1, padding=2)\n",
    "        # 32 channel, num_feature\n",
    "        \n",
    "        self.conv3 = nn.Conv1d(\n",
    "            in_channels=32, out_channels=64, kernel_size=5, stride=1, padding=2\n",
    "        )\n",
    "        self.pool3 = nn.MaxPool1d(kernel_size=5, stride=1, padding=2)\n",
    "\n",
    "        self.fc1 = nn.Linear(num_feature * 64, 3200)\n",
    "        self.fc2 = nn.Linear(3200, 1600)\n",
    "        self.fc3 = nn.Linear(1600, 500)\n",
    "        self.out = nn.Linear(500, 26)\n",
    "\n",
    "    def forward(self, x):\n",
    "        x = self.pool1(F.relu(self.conv1(x)))\n",
    "        x = self.pool2(F.relu(self.conv2(x)))\n",
    "        x = self.pool3(F.relu(self.conv3(x)))\n",
    "        x = x.view(-1, num_feature * 64)\n",
    "        x = F.relu(self.fc1(x))\n",
    "        x = F.relu(self.fc2(x))\n",
    "        x = F.relu(self.fc3(x))\n",
    "        x = self.out(x)\n",
    "        return x\n",
    "net = Net()\n",
    "if torch.cuda.is_available():\n",
    "    net.cuda()\n",
    "net"
   ]
  },
  {
   "cell_type": "code",
   "execution_count": 60,
   "metadata": {},
   "outputs": [
    {
     "name": "stdout",
     "output_type": "stream",
     "text": [
      "Epoch 0 trainacc=0.4225544128198995 devacc=0.11742059672762271\n",
      "        trainloss=1.8870691348422346 devloss=3.7369815018225223\n",
      "Epoch 1 trainacc=0.7370485529777565 devacc=0.18575553416746873\n",
      "        trainloss=0.8644684453353846 devloss=4.227879670173418\n",
      "Epoch 2 trainacc=0.866802200430519 devacc=0.17324350336862368\n",
      "        trainloss=0.42715179303621337 devloss=5.772062214896355\n",
      "Epoch 3 trainacc=0.9301841664673524 devacc=0.18864292589027912\n",
      "        trainloss=0.23171185242148912 devloss=6.169631409117301\n",
      "Epoch 4 trainacc=0.9564936618033963 devacc=0.18575553416746873\n",
      "        trainloss=0.14904369668680012 devloss=7.363461893722343\n",
      "Epoch 5 trainacc=0.9714661564219086 devacc=0.20019249278152068\n",
      "        trainloss=0.09193993504681504 devloss=8.400139300150867\n",
      "Epoch 6 trainacc=0.978115283425018 devacc=0.19826756496631376\n",
      "        trainloss=0.07376936273023404 devloss=8.592302846495524\n",
      "Epoch 7 trainacc=0.9772064099497728 devacc=0.19923002887391722\n",
      "        trainloss=0.07661355426724349 devloss=9.158802036142212\n",
      "Epoch 8 trainacc=0.9848361635972256 devacc=0.20211742059672763\n",
      "        trainloss=0.051212250339916464 devloss=9.208411112556789\n",
      "Epoch 9 trainacc=0.9903850753408275 devacc=0.22617901828681425\n",
      "        trainloss=0.03755222312273862 devloss=9.4610429457223\n",
      "Epoch 10 trainacc=0.9848600813202583 devacc=0.17901828681424448\n",
      "        trainloss=0.0568409035723194 devloss=10.604398478672296\n",
      "Epoch 11 trainacc=0.9887108347285338 devacc=0.19345524542829645\n",
      "        trainloss=0.03819722641786016 devloss=9.636621708360511\n",
      "Epoch 12 trainacc=0.9709878019612533 devacc=0.18575553416746873\n",
      "        trainloss=0.10139059165082347 devloss=9.599323425072678\n",
      "Epoch 13 trainacc=0.9873953599617317 devacc=0.19634263715110684\n",
      "        trainloss=0.045420260592061945 devloss=9.913723492186383\n",
      "Epoch 14 trainacc=0.9903133221717293 devacc=0.19056785370548604\n",
      "        trainloss=0.030683676657640914 devloss=10.409286140133489\n",
      "Epoch 15 trainacc=0.9917962209997608 devacc=0.21751684311838307\n",
      "        trainloss=0.02979893919906457 devloss=9.490379526250287\n",
      "Epoch 16 trainacc=0.9873953599617317 devacc=0.17420596727622714\n",
      "        trainloss=0.04708393660138538 devloss=10.729484916995418\n",
      "Epoch 17 trainacc=0.9875388662999283 devacc=0.20019249278152068\n",
      "        trainloss=0.04449235495822306 devloss=9.914444070693044\n",
      "Epoch 18 trainacc=0.9955991389619708 devacc=0.1973051010587103\n",
      "        trainloss=0.014933048985155397 devloss=9.391477505901436\n",
      "Epoch 19 trainacc=0.9933747907199235 devacc=0.20211742059672763\n",
      "        trainloss=0.024081586020459823 devloss=9.807591703559941\n",
      "Epoch 20 trainacc=0.992298493183449 devacc=0.21559191530317612\n",
      "        trainloss=0.02716436620206496 devloss=9.578771707756916\n",
      "Epoch 21 trainacc=0.9955034680698398 devacc=0.20596727622714148\n",
      "        trainloss=0.01872447219580818 devloss=9.462681784092863\n",
      "Epoch 22 trainacc=0.9925137526907438 devacc=0.20692974013474494\n",
      "        trainloss=0.032617804865648845 devloss=11.299671073964975\n",
      "Epoch 23 trainacc=0.9952164553934465 devacc=0.20500481231953802\n",
      "        trainloss=0.01659238492669945 devloss=9.95538836838077\n",
      "Epoch 24 trainacc=0.9939248983496771 devacc=0.20500481231953802\n",
      "        trainloss=0.01947575198146529 devloss=9.993206632722446\n",
      "Epoch 25 trainacc=0.9940923224109065 devacc=0.20404234841193455\n",
      "        trainloss=0.021154565174427507 devloss=9.840165281433459\n",
      "Epoch 26 trainacc=0.995886151638364 devacc=0.1867179980750722\n",
      "        trainloss=0.014890176293920638 devloss=9.617317394296979\n",
      "Epoch 27 trainacc=0.9866539105477159 devacc=0.17805582290664101\n",
      "        trainloss=0.051375630096267555 devloss=9.885354012681155\n",
      "Epoch 28 trainacc=0.9932073666586941 devacc=0.20692974013474494\n",
      "        trainloss=0.02475490450348524 devloss=8.912608364204356\n",
      "Epoch 29 trainacc=0.989213106912222 devacc=0.21559191530317612\n",
      "        trainloss=0.03879313233369305 devloss=9.844255296855849\n",
      "Epoch 30 trainacc=0.9926333413059076 devacc=0.19249278152069296\n",
      "        trainloss=0.028647918890537086 devloss=10.372723438053663\n",
      "Epoch 31 trainacc=0.9967471896675436 devacc=0.19345524542829645\n",
      "        trainloss=0.01215920037156939 devloss=10.511008409494615\n",
      "Epoch 32 trainacc=0.9971298732360679 devacc=0.21751684311838307\n",
      "        trainloss=0.011516093951265719 devloss=10.14481221860825\n",
      "Epoch 33 trainacc=0.9930877780435302 devacc=0.17998075072184794\n",
      "        trainloss=0.028789996912382602 devloss=10.248375037177695\n",
      "Epoch 34 trainacc=0.9948337718249223 devacc=0.21751684311838307\n",
      "        trainloss=0.018882573787831314 devloss=9.51004248243668\n",
      "Epoch 35 trainacc=0.996603683329347 devacc=0.19923002887391722\n",
      "        trainloss=0.011057829516308319 devloss=10.255487808249567\n",
      "Epoch 36 trainacc=0.9943554173642669 devacc=0.17420596727622714\n",
      "        trainloss=0.023464743729014303 devloss=10.877758617235905\n",
      "Epoch 37 trainacc=0.9948337718249223 devacc=0.2165543792107796\n",
      "        trainloss=0.022494675178941506 devloss=11.100470263873074\n",
      "Epoch 38 trainacc=0.9887586701745994 devacc=0.19249278152069296\n",
      "        trainloss=0.0399052268217138 devloss=9.066780004969461\n",
      "Epoch 39 trainacc=0.9960296579765606 devacc=0.20596727622714148\n",
      "        trainloss=0.016416153160782113 devloss=9.076327092608542\n",
      "Finished Training\n"
     ]
    }
   ],
   "source": [
    "criterion = nn.CrossEntropyLoss()\n",
    "# optimizer = optim.SGD(net.parameters(), lr=0.00001, momentum=0.9)\n",
    "# optimizer = optim.Adam(net.parameters(), lr=0.001)\n",
    "optimizer = optim.AdamW(net.parameters(), weight_decay=0.01)\n",
    "\n",
    "hist = defaultdict(list)\n",
    "for epoch in range(40):  # loop over the dataset multiple times\n",
    "    running_loss = 0.0\n",
    "    for i, data in enumerate(trainloader):\n",
    "        # get the inputs; data is a list of [inputs, labels]\n",
    "        inputs, labels = data\n",
    "        if torch.cuda.is_available():\n",
    "            inputs = inputs.cuda()\n",
    "            labels = labels.cuda()\n",
    "\n",
    "        # zero the parameter gradients\n",
    "        optimizer.zero_grad()\n",
    "\n",
    "        # forward + backward + optimize\n",
    "        outputs = net(inputs.float())\n",
    "        loss = criterion(outputs, labels.long())\n",
    "        loss.backward()\n",
    "        optimizer.step()\n",
    "        \n",
    "    trainacc, trainloss = acc_loss(trainloader, criterion)\n",
    "    devacc, devloss = acc_loss(devloader, criterion)\n",
    "    hist['trainacc'].append(trainacc)\n",
    "    hist['trainloss'].append(trainloss)\n",
    "    hist['devacc'].append(devacc)\n",
    "    hist['devloss'].append(devloss)\n",
    "    \n",
    "    print(f'Epoch {epoch} trainacc={trainacc} devacc={devacc}')\n",
    "    print(f'        trainloss={trainloss} devloss={devloss}')\n",
    "\n",
    "print('Finished Training')"
   ]
  },
  {
   "cell_type": "code",
   "execution_count": 62,
   "metadata": {},
   "outputs": [
    {
     "data": {
      "text/plain": [
       "(0.402, 7.734937429428101)"
      ]
     },
     "execution_count": 62,
     "metadata": {},
     "output_type": "execute_result"
    }
   ],
   "source": [
    "acc_loss(testloader, nn.CrossEntropyLoss())"
   ]
  },
  {
   "cell_type": "code",
   "execution_count": 63,
   "metadata": {},
   "outputs": [],
   "source": [
    "testacc, testloss = acc_loss(testloader, nn.CrossEntropyLoss())\n",
    "testacc, testloss\n",
    "hist['testacc'] = testacc\n",
    "hist['testloss'] = testloss"
   ]
  },
  {
   "cell_type": "code",
   "execution_count": 64,
   "metadata": {},
   "outputs": [
    {
     "data": {
      "text/plain": [
       "defaultdict(list,\n",
       "            {'trainacc': [0.4225544128198995,\n",
       "              0.7370485529777565,\n",
       "              0.866802200430519,\n",
       "              0.9301841664673524,\n",
       "              0.9564936618033963,\n",
       "              0.9714661564219086,\n",
       "              0.978115283425018,\n",
       "              0.9772064099497728,\n",
       "              0.9848361635972256,\n",
       "              0.9903850753408275,\n",
       "              0.9848600813202583,\n",
       "              0.9887108347285338,\n",
       "              0.9709878019612533,\n",
       "              0.9873953599617317,\n",
       "              0.9903133221717293,\n",
       "              0.9917962209997608,\n",
       "              0.9873953599617317,\n",
       "              0.9875388662999283,\n",
       "              0.9955991389619708,\n",
       "              0.9933747907199235,\n",
       "              0.992298493183449,\n",
       "              0.9955034680698398,\n",
       "              0.9925137526907438,\n",
       "              0.9952164553934465,\n",
       "              0.9939248983496771,\n",
       "              0.9940923224109065,\n",
       "              0.995886151638364,\n",
       "              0.9866539105477159,\n",
       "              0.9932073666586941,\n",
       "              0.989213106912222,\n",
       "              0.9926333413059076,\n",
       "              0.9967471896675436,\n",
       "              0.9971298732360679,\n",
       "              0.9930877780435302,\n",
       "              0.9948337718249223,\n",
       "              0.996603683329347,\n",
       "              0.9943554173642669,\n",
       "              0.9948337718249223,\n",
       "              0.9887586701745994,\n",
       "              0.9960296579765606],\n",
       "             'trainloss': [1.8870691348422346,\n",
       "              0.8644684453353846,\n",
       "              0.42715179303621337,\n",
       "              0.23171185242148912,\n",
       "              0.14904369668680012,\n",
       "              0.09193993504681504,\n",
       "              0.07376936273023404,\n",
       "              0.07661355426724349,\n",
       "              0.051212250339916464,\n",
       "              0.03755222312273862,\n",
       "              0.0568409035723194,\n",
       "              0.03819722641786016,\n",
       "              0.10139059165082347,\n",
       "              0.045420260592061945,\n",
       "              0.030683676657640914,\n",
       "              0.02979893919906457,\n",
       "              0.04708393660138538,\n",
       "              0.04449235495822306,\n",
       "              0.014933048985155397,\n",
       "              0.024081586020459823,\n",
       "              0.02716436620206496,\n",
       "              0.01872447219580818,\n",
       "              0.032617804865648845,\n",
       "              0.01659238492669945,\n",
       "              0.01947575198146529,\n",
       "              0.021154565174427507,\n",
       "              0.014890176293920638,\n",
       "              0.051375630096267555,\n",
       "              0.02475490450348524,\n",
       "              0.03879313233369305,\n",
       "              0.028647918890537086,\n",
       "              0.01215920037156939,\n",
       "              0.011516093951265719,\n",
       "              0.028789996912382602,\n",
       "              0.018882573787831314,\n",
       "              0.011057829516308319,\n",
       "              0.023464743729014303,\n",
       "              0.022494675178941506,\n",
       "              0.0399052268217138,\n",
       "              0.016416153160782113],\n",
       "             'devacc': [0.11742059672762271,\n",
       "              0.18575553416746873,\n",
       "              0.17324350336862368,\n",
       "              0.18864292589027912,\n",
       "              0.18575553416746873,\n",
       "              0.20019249278152068,\n",
       "              0.19826756496631376,\n",
       "              0.19923002887391722,\n",
       "              0.20211742059672763,\n",
       "              0.22617901828681425,\n",
       "              0.17901828681424448,\n",
       "              0.19345524542829645,\n",
       "              0.18575553416746873,\n",
       "              0.19634263715110684,\n",
       "              0.19056785370548604,\n",
       "              0.21751684311838307,\n",
       "              0.17420596727622714,\n",
       "              0.20019249278152068,\n",
       "              0.1973051010587103,\n",
       "              0.20211742059672763,\n",
       "              0.21559191530317612,\n",
       "              0.20596727622714148,\n",
       "              0.20692974013474494,\n",
       "              0.20500481231953802,\n",
       "              0.20500481231953802,\n",
       "              0.20404234841193455,\n",
       "              0.1867179980750722,\n",
       "              0.17805582290664101,\n",
       "              0.20692974013474494,\n",
       "              0.21559191530317612,\n",
       "              0.19249278152069296,\n",
       "              0.19345524542829645,\n",
       "              0.21751684311838307,\n",
       "              0.17998075072184794,\n",
       "              0.21751684311838307,\n",
       "              0.19923002887391722,\n",
       "              0.17420596727622714,\n",
       "              0.2165543792107796,\n",
       "              0.19249278152069296,\n",
       "              0.20596727622714148],\n",
       "             'devloss': [3.7369815018225223,\n",
       "              4.227879670173418,\n",
       "              5.772062214896355,\n",
       "              6.169631409117301,\n",
       "              7.363461893722343,\n",
       "              8.400139300150867,\n",
       "              8.592302846495524,\n",
       "              9.158802036142212,\n",
       "              9.208411112556789,\n",
       "              9.4610429457223,\n",
       "              10.604398478672296,\n",
       "              9.636621708360511,\n",
       "              9.599323425072678,\n",
       "              9.913723492186383,\n",
       "              10.409286140133489,\n",
       "              9.490379526250287,\n",
       "              10.729484916995418,\n",
       "              9.914444070693044,\n",
       "              9.391477505901436,\n",
       "              9.807591703559941,\n",
       "              9.578771707756916,\n",
       "              9.462681784092863,\n",
       "              11.299671073964975,\n",
       "              9.95538836838077,\n",
       "              9.993206632722446,\n",
       "              9.840165281433459,\n",
       "              9.617317394296979,\n",
       "              9.885354012681155,\n",
       "              8.912608364204356,\n",
       "              9.844255296855849,\n",
       "              10.372723438053663,\n",
       "              10.511008409494615,\n",
       "              10.14481221860825,\n",
       "              10.248375037177695,\n",
       "              9.51004248243668,\n",
       "              10.255487808249567,\n",
       "              10.877758617235905,\n",
       "              11.100470263873074,\n",
       "              9.066780004969461,\n",
       "              9.076327092608542],\n",
       "             'testacc': 0.402,\n",
       "             'testloss': 7.734937429428101})"
      ]
     },
     "execution_count": 64,
     "metadata": {},
     "output_type": "execute_result"
    }
   ],
   "source": [
    "hist"
   ]
  },
  {
   "cell_type": "code",
   "execution_count": 65,
   "metadata": {},
   "outputs": [],
   "source": [
    "with open('cnn_hist_subject_with_ae.json', 'w') as f:\n",
    "    json.dump(hist, f)"
   ]
  },
  {
   "cell_type": "code",
   "execution_count": null,
   "metadata": {},
   "outputs": [],
   "source": []
  },
  {
   "cell_type": "code",
   "execution_count": null,
   "metadata": {},
   "outputs": [],
   "source": []
  },
  {
   "cell_type": "code",
   "execution_count": null,
   "metadata": {},
   "outputs": [],
   "source": []
  },
  {
   "cell_type": "code",
   "execution_count": null,
   "metadata": {},
   "outputs": [],
   "source": []
  },
  {
   "cell_type": "code",
   "execution_count": null,
   "metadata": {},
   "outputs": [],
   "source": []
  },
  {
   "cell_type": "code",
   "execution_count": null,
   "metadata": {},
   "outputs": [],
   "source": []
  },
  {
   "cell_type": "code",
   "execution_count": null,
   "metadata": {},
   "outputs": [],
   "source": []
  }
 ],
 "metadata": {
  "file_extension": ".py",
  "kernelspec": {
   "display_name": "Python 3",
   "language": "python",
   "name": "python3"
  },
  "language_info": {
   "codemirror_mode": {
    "name": "ipython",
    "version": 3
   },
   "file_extension": ".py",
   "mimetype": "text/x-python",
   "name": "python",
   "nbconvert_exporter": "python",
   "pygments_lexer": "ipython3",
   "version": "3.7.5"
  },
  "mimetype": "text/x-python",
  "name": "python",
  "npconvert_exporter": "python",
  "pygments_lexer": "ipython3",
  "version": 3
 },
 "nbformat": 4,
 "nbformat_minor": 2
}
