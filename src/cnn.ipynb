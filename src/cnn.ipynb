{
 "cells": [
  {
   "cell_type": "code",
   "execution_count": 4,
   "metadata": {},
   "outputs": [],
   "source": [
    "import torch\n",
    "import data_loader\n",
    "import torch.nn as nn\n",
    "import torch.nn.functional as F\n",
    "import torch.optim as optim\n",
    "import os\n",
    "import json\n",
    "from collections import defaultdict"
   ]
  },
  {
   "cell_type": "code",
   "execution_count": 5,
   "metadata": {},
   "outputs": [
    {
     "data": {
      "text/plain": [
       "True"
      ]
     },
     "execution_count": 5,
     "metadata": {},
     "output_type": "execute_result"
    }
   ],
   "source": [
    "torch.cuda.is_available()"
   ]
  },
  {
   "cell_type": "code",
   "execution_count": 15,
   "metadata": {},
   "outputs": [
    {
     "name": "stdout",
     "output_type": "stream",
     "text": [
      "train_subjects ['kevin_11_7', 'russell_11_20_stand', 'kelly_11_7', 'zhaoye', 'albert', 'russell_random_12_7', 'yiheng_11_30', 'joanne', 'solomon', 'jq_12_6', 'yongxu_11_30', 'canon_12_5', 'yiheng_12_5', 'chen', 'daniel', 'isa_12_5', 'ruocheng']\n",
      "dev_subjects ['wenzhou_12_5', 'haobin_11_22']\n",
      "test_subjects ['janet', 'russell_11_7']\n",
      "Processing kevin_11_7\n",
      "Processing russell_11_20_stand\n",
      "Processing kelly_11_7\n",
      "Processing zhaoye\n",
      "Processing albert\n",
      "Processing russell_random_12_7\n",
      "Processing yiheng_11_30\n",
      "Processing joanne\n",
      "Processing solomon\n",
      "Processing jq_12_6\n",
      "Processing yongxu_11_30\n",
      "Processing canon_12_5\n",
      "Processing yiheng_12_5\n",
      "Processing chen\n",
      "Processing daniel\n",
      "Processing isa_12_5\n",
      "Processing ruocheng\n",
      "Processing wenzhou_12_5\n",
      "Processing haobin_11_22\n",
      "Processing janet\n",
      "Processing russell_11_7\n"
     ]
    }
   ],
   "source": [
    "# trainx, devx, testx, trainy, devy, testy = data_loader.load_all_classic_random_split(flatten=False)\n",
    "trainx, devx, testx, trainy, devy, testy = data_loader.load_all_subject_split(flatten=False)"
   ]
  },
  {
   "cell_type": "code",
   "execution_count": 16,
   "metadata": {},
   "outputs": [
    {
     "data": {
      "text/plain": [
       "((8362, 100, 3), (1039, 100, 3), (1000, 100, 3), (8362,), (1039,), (1000,))"
      ]
     },
     "execution_count": 16,
     "metadata": {},
     "output_type": "execute_result"
    }
   ],
   "source": [
    "# trainx, trainy = data_loader.augment_train_set(trainx, trainy, augment_prop=4, is_flattened=False)\n",
    "trainx.shape, devx.shape, testx.shape, trainy.shape, devy.shape, testy.shape"
   ]
  },
  {
   "cell_type": "code",
   "execution_count": 17,
   "metadata": {},
   "outputs": [],
   "source": [
    "BATCH_SIZE = 500\n",
    "\n",
    "def get_dataloader(x, y, batch_size):\n",
    "    dataset = [(x[i].T, y[i]) for i in range(y.shape[0])]\n",
    "    dataloader = torch.utils.data.DataLoader(dataset, batch_size=batch_size, shuffle=True)\n",
    "    return dataloader\n",
    "\n",
    "trainloader = get_dataloader(trainx, trainy, BATCH_SIZE)\n",
    "devloader = get_dataloader(devx, devy, BATCH_SIZE)\n",
    "testloader = get_dataloader(testx, testy, BATCH_SIZE)"
   ]
  },
  {
   "cell_type": "code",
   "execution_count": 18,
   "metadata": {},
   "outputs": [
    {
     "data": {
      "text/plain": [
       "(100, 3)"
      ]
     },
     "execution_count": 18,
     "metadata": {},
     "output_type": "execute_result"
    }
   ],
   "source": [
    "_, num_feature, num_channel = trainx.shape\n",
    "num_feature, num_channel"
   ]
  },
  {
   "cell_type": "code",
   "execution_count": 19,
   "metadata": {},
   "outputs": [],
   "source": [
    "def acc_loss(data_loader, criterion):\n",
    "    correct = 0\n",
    "    total = 0\n",
    "    total_loss = 0.0\n",
    "    with torch.no_grad():\n",
    "        for data in data_loader:\n",
    "            x, y = data\n",
    "            if torch.cuda.is_available():\n",
    "                x = x.cuda()\n",
    "                y = y.cuda()\n",
    "                \n",
    "            outputs = net(x.float())\n",
    "            _, predicted = torch.max(outputs.data, 1)\n",
    "            \n",
    "            w = torch.sum((predicted - y) != 0).item()\n",
    "            r = len(y) - w\n",
    "            correct += r \n",
    "            total += len(y)\n",
    "            \n",
    "            total_loss += criterion(outputs, y.long()).item() * len(x)\n",
    "    return correct / total, total_loss / total"
   ]
  },
  {
   "cell_type": "code",
   "execution_count": 20,
   "metadata": {},
   "outputs": [
    {
     "data": {
      "text/plain": [
       "Net(\n",
       "  (conv1): Conv1d(3, 16, kernel_size=(3,), stride=(1,), padding=(1,))\n",
       "  (pool1): MaxPool1d(kernel_size=3, stride=1, padding=1, dilation=1, ceil_mode=False)\n",
       "  (conv2): Conv1d(16, 32, kernel_size=(5,), stride=(1,), padding=(2,))\n",
       "  (pool2): MaxPool1d(kernel_size=5, stride=1, padding=2, dilation=1, ceil_mode=False)\n",
       "  (conv3): Conv1d(32, 64, kernel_size=(5,), stride=(1,), padding=(2,))\n",
       "  (pool3): MaxPool1d(kernel_size=5, stride=1, padding=2, dilation=1, ceil_mode=False)\n",
       "  (fc1): Linear(in_features=6400, out_features=3200, bias=True)\n",
       "  (fc2): Linear(in_features=3200, out_features=1600, bias=True)\n",
       "  (fc3): Linear(in_features=1600, out_features=500, bias=True)\n",
       "  (out): Linear(in_features=500, out_features=26, bias=True)\n",
       ")"
      ]
     },
     "execution_count": 20,
     "metadata": {},
     "output_type": "execute_result"
    }
   ],
   "source": [
    "class Net(nn.Module):\n",
    "    def __init__(self):\n",
    "        super(Net, self).__init__()\n",
    "        self.conv1 = nn.Conv1d(\n",
    "            in_channels=3, out_channels=16, kernel_size=3, stride=1, padding=1\n",
    "        )  \n",
    "        # 16 channel, num_feature\n",
    "        self.pool1 = nn.MaxPool1d(kernel_size=3, stride=1, padding=1)\n",
    "        # 16 channel, num_feature\n",
    "\n",
    "        self.conv2 = nn.Conv1d(\n",
    "            in_channels=16, out_channels=32, kernel_size=5, stride=1, padding=2\n",
    "        )\n",
    "        # 32 channel, num_feature\n",
    "        self.pool2 = nn.MaxPool1d(kernel_size=5, stride=1, padding=2)\n",
    "        # 32 channel, num_feature\n",
    "        \n",
    "        self.conv3 = nn.Conv1d(\n",
    "            in_channels=32, out_channels=64, kernel_size=5, stride=1, padding=2\n",
    "        )\n",
    "        self.pool3 = nn.MaxPool1d(kernel_size=5, stride=1, padding=2)\n",
    "\n",
    "        self.fc1 = nn.Linear(num_feature * 64, 3200)\n",
    "        self.fc2 = nn.Linear(3200, 1600)\n",
    "        self.fc3 = nn.Linear(1600, 500)\n",
    "        self.out = nn.Linear(500, 26)\n",
    "\n",
    "    def forward(self, x):\n",
    "        x = self.pool1(F.relu(self.conv1(x)))\n",
    "        x = self.pool2(F.relu(self.conv2(x)))\n",
    "        x = self.pool3(F.relu(self.conv3(x)))\n",
    "        x = x.view(-1, num_feature * 64)\n",
    "        x = F.relu(self.fc1(x))\n",
    "        x = F.relu(self.fc2(x))\n",
    "        x = F.relu(self.fc3(x))\n",
    "        x = self.out(x)\n",
    "        return x\n",
    "net = Net()\n",
    "if torch.cuda.is_available():\n",
    "    net.cuda()\n",
    "net"
   ]
  },
  {
   "cell_type": "code",
   "execution_count": 21,
   "metadata": {},
   "outputs": [
    {
     "name": "stdout",
     "output_type": "stream",
     "text": [
      "Epoch 0 trainacc=0.04448696484094714 devacc=0.03849855630413859\n",
      "        trainloss=3.2563130540215948 devloss=3.258410598132562\n",
      "Epoch 1 trainacc=0.05931595312126286 devacc=0.03657362848893166\n",
      "        trainloss=3.201957697105362 devloss=3.2658143630959415\n",
      "Epoch 2 trainacc=0.17424061229370963 devacc=0.06063522617901829\n",
      "        trainloss=2.824591537150319 devloss=3.3294917846437366\n",
      "Epoch 3 trainacc=0.3228892609423583 devacc=0.0933589990375361\n",
      "        trainloss=2.27039274283215 devloss=3.44392831355362\n",
      "Epoch 4 trainacc=0.4738100932791198 devacc=0.13378248315688163\n",
      "        trainloss=1.7396511428523251 devloss=3.266101997098289\n",
      "Epoch 5 trainacc=0.5977038985888543 devacc=0.17805582290664101\n",
      "        trainloss=1.3386873571646325 devloss=3.259829125344696\n",
      "Epoch 6 trainacc=0.683448935661325 devacc=0.18960538979788258\n",
      "        trainloss=1.0481630873377885 devloss=3.532945864469071\n",
      "Epoch 7 trainacc=0.757354699832576 devacc=0.16361886429258904\n",
      "        trainloss=0.7757267905062849 devloss=4.054881932072277\n",
      "Epoch 8 trainacc=0.8292274575460417 devacc=0.21944177093359\n",
      "        trainloss=0.5638385547801257 devloss=4.254541227287461\n",
      "Epoch 9 trainacc=0.8658215737861755 devacc=0.1915303176130895\n",
      "        trainloss=0.454896553777046 devloss=4.483160317230959\n",
      "Epoch 10 trainacc=0.8708442956230567 devacc=0.20019249278152068\n",
      "        trainloss=0.40280831962845254 devloss=4.874570906678568\n",
      "Epoch 11 trainacc=0.9252571155226023 devacc=0.2136669874879692\n",
      "        trainloss=0.25400462045221345 devloss=5.3747718281420065\n",
      "Epoch 12 trainacc=0.911504424778761 devacc=0.18190567853705486\n",
      "        trainloss=0.2859772436500765 devloss=6.063922510798787\n",
      "Epoch 13 trainacc=0.9508490791676633 devacc=0.20019249278152068\n",
      "        trainloss=0.1643411479186453 devloss=6.08333061014493\n",
      "Epoch 14 trainacc=0.9638842382205214 devacc=0.19634263715110684\n",
      "        trainloss=0.12768478051836596 devloss=6.716864818099373\n",
      "Epoch 15 trainacc=0.9734513274336283 devacc=0.19538017324350337\n",
      "        trainloss=0.09551922123744652 devloss=7.030349948982187\n",
      "Epoch 16 trainacc=0.9753647452762497 devacc=0.22232916265640038\n",
      "        trainloss=0.07879470045865651 devloss=7.15982399041889\n",
      "Epoch 17 trainacc=0.9765606314278881 devacc=0.20115495668912417\n",
      "        trainloss=0.07797538687708246 devloss=7.705504568869157\n",
      "Epoch 18 trainacc=0.9760822769672327 devacc=0.1915303176130895\n",
      "        trainloss=0.07481386818310713 devloss=7.59834992277496\n",
      "Epoch 19 trainacc=0.9770389858885434 devacc=0.19826756496631376\n",
      "        trainloss=0.07424233273060178 devloss=7.89453467276374\n",
      "Finished Training\n"
     ]
    }
   ],
   "source": [
    "criterion = nn.CrossEntropyLoss()\n",
    "# optimizer = optim.SGD(net.parameters(), lr=0.00001, momentum=0.9)\n",
    "# optimizer = optim.Adam(net.parameters(), lr=0.001)\n",
    "optimizer = optim.AdamW(net.parameters(), weight_decay=0.1)\n",
    "\n",
    "hist = defaultdict(list)\n",
    "for epoch in range(20):  # loop over the dataset multiple times\n",
    "    running_loss = 0.0\n",
    "    for i, data in enumerate(trainloader):\n",
    "        # get the inputs; data is a list of [inputs, labels]\n",
    "        inputs, labels = data\n",
    "        if torch.cuda.is_available():\n",
    "            inputs = inputs.cuda()\n",
    "            labels = labels.cuda()\n",
    "\n",
    "        # zero the parameter gradients\n",
    "        optimizer.zero_grad()\n",
    "\n",
    "        # forward + backward + optimize\n",
    "        outputs = net(inputs.float())\n",
    "        loss = criterion(outputs, labels.long())\n",
    "        loss.backward()\n",
    "        optimizer.step()\n",
    "        \n",
    "    trainacc, trainloss = acc_loss(trainloader, criterion)\n",
    "    devacc, devloss = acc_loss(devloader, criterion)\n",
    "    hist['trainacc'].append(trainacc)\n",
    "    hist['trainloss'].append(trainloss)\n",
    "    hist['devacc'].append(devacc)\n",
    "    hist['devloss'].append(devloss)\n",
    "    \n",
    "    print(f'Epoch {epoch} trainacc={trainacc} devacc={devacc}')\n",
    "    print(f'        trainloss={trainloss} devloss={devloss}')\n",
    "\n",
    "print('Finished Training')"
   ]
  },
  {
   "cell_type": "code",
   "execution_count": null,
   "metadata": {},
   "outputs": [],
   "source": []
  },
  {
   "cell_type": "code",
   "execution_count": null,
   "metadata": {},
   "outputs": [],
   "source": []
  },
  {
   "cell_type": "code",
   "execution_count": null,
   "metadata": {},
   "outputs": [],
   "source": []
  },
  {
   "cell_type": "code",
   "execution_count": null,
   "metadata": {},
   "outputs": [],
   "source": []
  },
  {
   "cell_type": "code",
   "execution_count": 22,
   "metadata": {},
   "outputs": [],
   "source": [
    "testacc, testloss = acc_loss(testloader, nn.CrossEntropyLoss())\n",
    "testacc, testloss\n",
    "hist['testacc'] = testacc\n",
    "hist['testloss'] = testloss"
   ]
  },
  {
   "cell_type": "code",
   "execution_count": 23,
   "metadata": {},
   "outputs": [
    {
     "data": {
      "text/plain": [
       "defaultdict(list,\n",
       "            {'trainacc': [0.04448696484094714,\n",
       "              0.05931595312126286,\n",
       "              0.17424061229370963,\n",
       "              0.3228892609423583,\n",
       "              0.4738100932791198,\n",
       "              0.5977038985888543,\n",
       "              0.683448935661325,\n",
       "              0.757354699832576,\n",
       "              0.8292274575460417,\n",
       "              0.8658215737861755,\n",
       "              0.8708442956230567,\n",
       "              0.9252571155226023,\n",
       "              0.911504424778761,\n",
       "              0.9508490791676633,\n",
       "              0.9638842382205214,\n",
       "              0.9734513274336283,\n",
       "              0.9753647452762497,\n",
       "              0.9765606314278881,\n",
       "              0.9760822769672327,\n",
       "              0.9770389858885434],\n",
       "             'trainloss': [3.2563130540215948,\n",
       "              3.201957697105362,\n",
       "              2.824591537150319,\n",
       "              2.27039274283215,\n",
       "              1.7396511428523251,\n",
       "              1.3386873571646325,\n",
       "              1.0481630873377885,\n",
       "              0.7757267905062849,\n",
       "              0.5638385547801257,\n",
       "              0.454896553777046,\n",
       "              0.40280831962845254,\n",
       "              0.25400462045221345,\n",
       "              0.2859772436500765,\n",
       "              0.1643411479186453,\n",
       "              0.12768478051836596,\n",
       "              0.09551922123744652,\n",
       "              0.07879470045865651,\n",
       "              0.07797538687708246,\n",
       "              0.07481386818310713,\n",
       "              0.07424233273060178],\n",
       "             'devacc': [0.03849855630413859,\n",
       "              0.03657362848893166,\n",
       "              0.06063522617901829,\n",
       "              0.0933589990375361,\n",
       "              0.13378248315688163,\n",
       "              0.17805582290664101,\n",
       "              0.18960538979788258,\n",
       "              0.16361886429258904,\n",
       "              0.21944177093359,\n",
       "              0.1915303176130895,\n",
       "              0.20019249278152068,\n",
       "              0.2136669874879692,\n",
       "              0.18190567853705486,\n",
       "              0.20019249278152068,\n",
       "              0.19634263715110684,\n",
       "              0.19538017324350337,\n",
       "              0.22232916265640038,\n",
       "              0.20115495668912417,\n",
       "              0.1915303176130895,\n",
       "              0.19826756496631376],\n",
       "             'devloss': [3.258410598132562,\n",
       "              3.2658143630959415,\n",
       "              3.3294917846437366,\n",
       "              3.44392831355362,\n",
       "              3.266101997098289,\n",
       "              3.259829125344696,\n",
       "              3.532945864469071,\n",
       "              4.054881932072277,\n",
       "              4.254541227287461,\n",
       "              4.483160317230959,\n",
       "              4.874570906678568,\n",
       "              5.3747718281420065,\n",
       "              6.063922510798787,\n",
       "              6.08333061014493,\n",
       "              6.716864818099373,\n",
       "              7.030349948982187,\n",
       "              7.15982399041889,\n",
       "              7.705504568869157,\n",
       "              7.59834992277496,\n",
       "              7.89453467276374],\n",
       "             'testacc': 0.358,\n",
       "             'testloss': 6.195539236068726})"
      ]
     },
     "execution_count": 23,
     "metadata": {},
     "output_type": "execute_result"
    }
   ],
   "source": [
    "hist"
   ]
  },
  {
   "cell_type": "code",
   "execution_count": 74,
   "metadata": {},
   "outputs": [],
   "source": [
    "with open('cnn_hist_random.json', 'w') as f:\n",
    "    json.dump(hist, f)"
   ]
  },
  {
   "cell_type": "code",
   "execution_count": null,
   "metadata": {},
   "outputs": [],
   "source": []
  },
  {
   "cell_type": "code",
   "execution_count": null,
   "metadata": {},
   "outputs": [],
   "source": []
  },
  {
   "cell_type": "code",
   "execution_count": null,
   "metadata": {},
   "outputs": [],
   "source": []
  },
  {
   "cell_type": "code",
   "execution_count": null,
   "metadata": {},
   "outputs": [],
   "source": []
  },
  {
   "cell_type": "code",
   "execution_count": null,
   "metadata": {},
   "outputs": [],
   "source": []
  },
  {
   "cell_type": "code",
   "execution_count": null,
   "metadata": {},
   "outputs": [],
   "source": []
  },
  {
   "cell_type": "code",
   "execution_count": null,
   "metadata": {},
   "outputs": [],
   "source": []
  }
 ],
 "metadata": {
  "file_extension": ".py",
  "kernelspec": {
   "display_name": "Python 3",
   "language": "python",
   "name": "python3"
  },
  "language_info": {
   "codemirror_mode": {
    "name": "ipython",
    "version": 3
   },
   "file_extension": ".py",
   "mimetype": "text/x-python",
   "name": "python",
   "nbconvert_exporter": "python",
   "pygments_lexer": "ipython3",
   "version": "3.7.5"
  },
  "mimetype": "text/x-python",
  "name": "python",
  "npconvert_exporter": "python",
  "pygments_lexer": "ipython3",
  "version": 3
 },
 "nbformat": 4,
 "nbformat_minor": 2
}
