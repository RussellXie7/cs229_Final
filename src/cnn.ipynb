{
 "cells": [
  {
   "cell_type": "code",
   "execution_count": 3,
   "metadata": {},
   "outputs": [],
   "source": [
    "import torch\n",
    "import data_loader\n",
    "import torch.nn as nn\n",
    "import torch.nn.functional as F\n",
    "import torch.optim as optim"
   ]
  },
  {
   "cell_type": "code",
   "execution_count": 4,
   "metadata": {},
   "outputs": [
    {
     "data": {
      "text/plain": [
       "True"
      ]
     },
     "execution_count": 4,
     "metadata": {},
     "output_type": "execute_result"
    }
   ],
   "source": [
    "torch.cuda.is_available()"
   ]
  },
  {
   "cell_type": "code",
   "execution_count": 5,
   "metadata": {},
   "outputs": [
    {
     "name": "stdout",
     "output_type": "stream",
     "text": [
      "Processing albert\n",
      "Processing canon_12_5\n",
      "Processing chen_12_7\n",
      "Processing daniel\n",
      "Processing haobin_11_22\n",
      "Processing isa_12_5\n",
      "Processing janet\n",
      "Processing joanne\n",
      "Processing jq_12_6\n",
      "Processing kelly_11_7\n",
      "Processing kevin_11_7\n",
      "Processing ruocheng\n",
      "Processing russell_11_20_stand\n",
      "Processing russell_11_7\n",
      "Processing russell_random_12_7\n",
      "Processing solomon\n",
      "Processing wenzhou_12_5\n",
      "Processing yiheng_11_30\n",
      "Processing yiheng_12_5\n",
      "Processing yongxu_11_30\n",
      "Processing zhaoye_12_7\n",
      "Splitting out test set\n",
      "Splitting out dev and train set\n"
     ]
    }
   ],
   "source": [
    "trainx, devx, testx, trainy, devy, testy = data_loader.load_all_classic_random_split(flatten=False)"
   ]
  },
  {
   "cell_type": "code",
   "execution_count": 6,
   "metadata": {},
   "outputs": [
    {
     "name": "stdout",
     "output_type": "stream",
     "text": [
      "Augmenting TRAIN set with proportion 3\n"
     ]
    },
    {
     "data": {
      "text/plain": [
       "((33280, 100, 3), (1040, 100, 3), (1041, 100, 3), (33280,), (1040,), (1041,))"
      ]
     },
     "execution_count": 6,
     "metadata": {},
     "output_type": "execute_result"
    }
   ],
   "source": [
    "trainx, trainy = data_loader.augment_train_set(trainx, trainy, augment_prop=3, is_flattened=False)\n",
    "trainx.shape, devx.shape, testx.shape, trainy.shape, devy.shape, testy.shape"
   ]
  },
  {
   "cell_type": "code",
   "execution_count": 24,
   "metadata": {},
   "outputs": [],
   "source": [
    "BATCH_SIZE = 500\n",
    "\n",
    "def get_dataloader(x, y, batch_size):\n",
    "    dataset = [(x[i].T, y[i]) for i in range(y.shape[0])]\n",
    "    dataloader = torch.utils.data.DataLoader(dataset, batch_size=batch_size, shuffle=True)\n",
    "    return dataloader\n",
    "\n",
    "trainloader = get_dataloader(trainx, trainy, BATCH_SIZE)\n",
    "devloader = get_dataloader(devx, devy, BATCH_SIZE)\n",
    "testloader = get_dataloader(testx, testy, BATCH_SIZE)"
   ]
  },
  {
   "cell_type": "code",
   "execution_count": 8,
   "metadata": {},
   "outputs": [
    {
     "data": {
      "text/plain": [
       "(100, 3)"
      ]
     },
     "execution_count": 8,
     "metadata": {},
     "output_type": "execute_result"
    }
   ],
   "source": [
    "_, num_feature, num_channel = trainx.shape\n",
    "num_feature, num_channel"
   ]
  },
  {
   "cell_type": "code",
   "execution_count": 17,
   "metadata": {},
   "outputs": [],
   "source": [
    "def acc(data_loader):\n",
    "    correct = 0\n",
    "    total = 0\n",
    "    with torch.no_grad():\n",
    "        for data in data_loader:\n",
    "            x, y = data\n",
    "            if torch.cuda.is_available():\n",
    "                x = x.cuda()\n",
    "                y = y.cuda()\n",
    "                \n",
    "            outputs = net(x.float())\n",
    "            _, predicted = torch.max(outputs.data, 1)\n",
    "            \n",
    "            w = torch.sum((predicted - y) != 0).item()\n",
    "            r = len(y) - w\n",
    "            correct += r \n",
    "            total += len(y)\n",
    "    return correct / total"
   ]
  },
  {
   "cell_type": "code",
   "execution_count": 32,
   "metadata": {},
   "outputs": [
    {
     "data": {
      "text/plain": [
       "Net(\n",
       "  (conv1): Conv1d(3, 16, kernel_size=(3,), stride=(1,), padding=(1,))\n",
       "  (pool1): MaxPool1d(kernel_size=3, stride=1, padding=1, dilation=1, ceil_mode=False)\n",
       "  (conv2): Conv1d(16, 32, kernel_size=(5,), stride=(1,), padding=(2,))\n",
       "  (pool2): MaxPool1d(kernel_size=5, stride=1, padding=2, dilation=1, ceil_mode=False)\n",
       "  (conv3): Conv1d(32, 64, kernel_size=(5,), stride=(1,), padding=(2,))\n",
       "  (pool3): MaxPool1d(kernel_size=5, stride=1, padding=2, dilation=1, ceil_mode=False)\n",
       "  (fc1): Linear(in_features=6400, out_features=3200, bias=True)\n",
       "  (dropout): Dropout(p=0.2, inplace=False)\n",
       "  (fc2): Linear(in_features=3200, out_features=1600, bias=True)\n",
       "  (fc3): Linear(in_features=1600, out_features=500, bias=True)\n",
       "  (fc4): Linear(in_features=500, out_features=26, bias=True)\n",
       ")"
      ]
     },
     "execution_count": 32,
     "metadata": {},
     "output_type": "execute_result"
    }
   ],
   "source": [
    "class Net(nn.Module):\n",
    "    def __init__(self):\n",
    "        super(Net, self).__init__()\n",
    "        self.conv1 = nn.Conv1d(\n",
    "            in_channels=3, out_channels=16, kernel_size=3, stride=1, padding=1\n",
    "        )  \n",
    "        # 16 channel, num_feature\n",
    "        self.pool1 = nn.MaxPool1d(kernel_size=3, stride=1, padding=1)\n",
    "        # 16 channel, num_feature\n",
    "\n",
    "        self.conv2 = nn.Conv1d(\n",
    "            in_channels=16, out_channels=32, kernel_size=5, stride=1, padding=2\n",
    "        )\n",
    "        # 32 channel, num_feature\n",
    "        self.pool2 = nn.MaxPool1d(kernel_size=5, stride=1, padding=2)\n",
    "        # 32 channel, num_feature\n",
    "        \n",
    "        self.conv3 = nn.Conv1d(\n",
    "            in_channels=32, out_channels=64, kernel_size=5, stride=1, padding=2\n",
    "        )\n",
    "        self.pool3 = nn.MaxPool1d(kernel_size=5, stride=1, padding=2)\n",
    "\n",
    "        self.fc1 = nn.Linear(num_feature * 64, 3200)\n",
    "        self.dropout = nn.Dropout(p=0.2)\n",
    "        self.fc2 = nn.Linear(3200, 1600)\n",
    "        self.fc3 = nn.Linear(1600, 500)\n",
    "        self.fc4 = nn.Linear(500, 26)\n",
    "\n",
    "    def forward(self, x):\n",
    "        x = self.pool1(F.relu(self.conv1(x)))\n",
    "        x = self.pool2(F.relu(self.conv2(x)))\n",
    "        x = self.pool3(F.relu(self.conv3(x)))\n",
    "        x = x.view(-1, num_feature * 64)\n",
    "        x = F.relu(self.fc1(x))\n",
    "        x = self.dropout(x)\n",
    "        x = F.relu(self.fc2(x))\n",
    "        x = F.relu(self.fc3(x))\n",
    "        x = self.fc4(x)\n",
    "        return x\n",
    "net = Net()\n",
    "if torch.cuda.is_available():\n",
    "    net.cuda()\n",
    "net"
   ]
  },
  {
   "cell_type": "code",
   "execution_count": 34,
   "metadata": {},
   "outputs": [
    {
     "name": "stdout",
     "output_type": "stream",
     "text": [
      "0....................20....................40....................60.......\n",
      "Epoch 0 trainacc=0.9402944711538461 devacc=0.7461538461538462\n",
      "0....................20....................40....................60.......\n",
      "Epoch 1 trainacc=0.9484675480769231 devacc=0.7528846153846154\n",
      "0....................20....................40....................60.......\n",
      "Epoch 2 trainacc=0.9522536057692308 devacc=0.7615384615384615\n",
      "0....................20....................40....................60.......\n",
      "Epoch 3 trainacc=0.9545072115384615 devacc=0.7538461538461538\n",
      "0....................20....................40....................60.......\n",
      "Epoch 4 trainacc=0.9664663461538462 devacc=0.7663461538461539\n",
      "0....................20....................40....................60.......\n",
      "Epoch 5 trainacc=0.9720252403846154 devacc=0.7596153846153846\n",
      "0....................20....................40....................60.......\n",
      "Epoch 6 trainacc=0.9720252403846154 devacc=0.7644230769230769\n",
      "0....................20....................40....................60.......\n",
      "Epoch 7 trainacc=0.9762019230769231 devacc=0.7538461538461538\n",
      "0....................20....................40....................60.......\n",
      "Epoch 8 trainacc=0.9822716346153846 devacc=0.7615384615384615\n",
      "0....................20....................40....................60.......\n",
      "Epoch 9 trainacc=0.973467548076923 devacc=0.739423076923077\n",
      "0....................20....................40....................60.......\n",
      "Epoch 10 trainacc=0.9853064903846154 devacc=0.7701923076923077\n",
      "0....................20....................40....................60.......\n",
      "Epoch 11 trainacc=0.9852463942307692 devacc=0.7586538461538461\n",
      "0....................20....................40....................60.......\n",
      "Epoch 12 trainacc=0.9880108173076924 devacc=0.7673076923076924\n",
      "0....................20....................40....................60.......\n",
      "Epoch 13 trainacc=0.9848557692307692 devacc=0.7653846153846153\n",
      "0....................20....................40....................60.......\n",
      "Epoch 14 trainacc=0.981610576923077 devacc=0.7701923076923077\n",
      "0....................20....................40....................60.......\n",
      "Epoch 15 trainacc=0.9850060096153846 devacc=0.7682692307692308\n",
      "0....................20....................40....................60.......\n",
      "Epoch 16 trainacc=0.9898137019230769 devacc=0.7653846153846153\n",
      "0....................20....................40....................60.......\n",
      "Epoch 17 trainacc=0.9898137019230769 devacc=0.7807692307692308\n",
      "0....................20....................40....................60.......\n",
      "Epoch 18 trainacc=0.9937199519230769 devacc=0.7625\n",
      "0....................20....................40....................60.......\n",
      "Epoch 19 trainacc=0.9926682692307692 devacc=0.7903846153846154\n",
      "Finished Training\n"
     ]
    }
   ],
   "source": [
    "criterion = nn.CrossEntropyLoss()\n",
    "# optimizer = optim.SGD(net.parameters(), lr=0.00001, momentum=0.9)\n",
    "optimizer = optim.Adam(net.parameters(), lr=0.0001)\n",
    "\n",
    "for epoch in range(20):  # loop over the dataset multiple times\n",
    "    running_loss = 0.0\n",
    "    for i, data in enumerate(trainloader):\n",
    "        print(f'{i if i%20==0 else \"\"}.', end='')\n",
    "\n",
    "        # get the inputs; data is a list of [inputs, labels]\n",
    "        inputs, labels = data\n",
    "        if torch.cuda.is_available():\n",
    "            inputs = inputs.cuda()\n",
    "            labels = labels.cuda()\n",
    "\n",
    "        # zero the parameter gradients\n",
    "        optimizer.zero_grad()\n",
    "\n",
    "        # forward + backward + optimize\n",
    "        \n",
    "        outputs = net(inputs.float())\n",
    "        loss = criterion(outputs, labels.long())\n",
    "        loss.backward()\n",
    "        optimizer.step()\n",
    "\n",
    "    trainacc = acc(trainloader)\n",
    "    devacc = acc(devloader)\n",
    "\n",
    "    print('')\n",
    "    print(f'Epoch {epoch} trainacc={trainacc} devacc={devacc}')\n",
    "\n",
    "print('Finished Training')"
   ]
  },
  {
   "cell_type": "code",
   "execution_count": 35,
   "metadata": {},
   "outputs": [
    {
     "data": {
      "text/plain": [
       "0.7829010566762729"
      ]
     },
     "execution_count": 35,
     "metadata": {},
     "output_type": "execute_result"
    }
   ],
   "source": [
    "acc(testloader)"
   ]
  },
  {
   "cell_type": "code",
   "execution_count": null,
   "metadata": {},
   "outputs": [],
   "source": []
  },
  {
   "cell_type": "code",
   "execution_count": null,
   "metadata": {},
   "outputs": [],
   "source": []
  },
  {
   "cell_type": "code",
   "execution_count": null,
   "metadata": {},
   "outputs": [],
   "source": []
  }
 ],
 "metadata": {
  "file_extension": ".py",
  "kernelspec": {
   "display_name": "Python 3",
   "language": "python",
   "name": "python3"
  },
  "language_info": {
   "codemirror_mode": {
    "name": "ipython",
    "version": 3
   },
   "file_extension": ".py",
   "mimetype": "text/x-python",
   "name": "python",
   "nbconvert_exporter": "python",
   "pygments_lexer": "ipython3",
   "version": "3.7.5"
  },
  "mimetype": "text/x-python",
  "name": "python",
  "npconvert_exporter": "python",
  "pygments_lexer": "ipython3",
  "version": 3
 },
 "nbformat": 4,
 "nbformat_minor": 2
}
