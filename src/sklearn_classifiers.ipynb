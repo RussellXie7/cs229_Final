{
 "cells": [
  {
   "cell_type": "code",
   "execution_count": 1,
   "metadata": {},
   "outputs": [],
   "source": [
    "from sklearn.model_selection import train_test_split\n",
    "import numpy as np\n",
    "import data_loader"
   ]
  },
  {
   "cell_type": "markdown",
   "metadata": {},
   "outputs": [],
   "source": [
    "### setup"
   ]
  },
  {
   "cell_type": "code",
   "execution_count": 32,
   "metadata": {},
   "outputs": [
    {
     "name": "stdout",
     "output_type": "stream",
     "text": "Processing albert\nProcessing canon_12_5\nProcessing chen_12_7\nProcessing daniel\nProcessing haobin_11_22\nProcessing isa_12_5\nProcessing janet\nProcessing joanne\nProcessing jq_12_6\nProcessing kelly_11_7\nProcessing kevin_11_7\nProcessing ruocheng\nProcessing russell_11_20_stand\nProcessing russell_11_7\nProcessing russell_random_12_7\nProcessing solomon\nProcessing wenzhou_12_5\nProcessing yiheng_11_30\nProcessing yiheng_12_5\nProcessing yongxu_11_30\nProcessing zhaoye_12_7\nSplitting out test set\nSplitting out dev and train set\n"
    }
   ],
   "source": [
    "trainx, devx, testx, trainy, devy, testy = data_loader.load_all_classic_random_split()\n",
    "# trainx, devx, testx, trainy, devy, testy = data_loader.load_all_subject_split()"
   ]
  },
  {
   "cell_type": "code",
   "execution_count": 33,
   "metadata": {},
   "outputs": [
    {
     "data": {
      "text/plain": "((8320, 300), (1040, 300), (1041, 300), (8320,), (1040,), (1041,))"
     },
     "execution_count": 33,
     "metadata": {},
     "output_type": "execute_result"
    }
   ],
   "source": [
    "trainx.shape, devx.shape, testx.shape, trainy.shape, devy.shape, testy.shape"
   ]
  },
  {
   "cell_type": "code",
   "execution_count": 34,
   "metadata": {},
   "outputs": [],
   "source": [
    "def get_acc(pred, testy):\n",
    "    correct_pred = (pred-testy == 0).astype(int)\n",
    "    acc = np.sum(correct_pred) / pred.shape[0]\n",
    "    return acc"
   ]
  },
  {
   "cell_type": "markdown",
   "metadata": {},
   "outputs": [],
   "source": [
    "### SVM"
   ]
  },
  {
   "cell_type": "code",
   "execution_count": 26,
   "metadata": {},
   "outputs": [],
   "source": [
    "from sklearn import svm"
   ]
  },
  {
   "cell_type": "code",
   "execution_count": 27,
   "metadata": {},
   "outputs": [
    {
     "name": "stdout",
     "output_type": "stream",
     "text": "Training svc with poly kernel\n/Users/junshenchen/anaconda3/envs/cs229proj-mac/lib/python3.7/site-packages/sklearn/svm/base.py:241: ConvergenceWarning: Solver terminated early (max_iter=30000).  Consider pre-processing your data with StandardScaler or MinMaxScaler.\n  % self.max_iter, ConvergenceWarning)\n"
    }
   ],
   "source": [
    "kernels = ['poly']\n",
    "svc_acc = {}\n",
    "\n",
    "for kernel in kernels:\n",
    "    print(f'Training svc with {kernel} kernel')\n",
    "    clf = svm.SVC(kernel=kernel, gamma='auto', max_iter=30000)\n",
    "    clf.fit(trainx, trainy)\n",
    "    pred = clf.predict(testx)\n",
    "    svc_acc[kernel] = get_acc(pred, testy)\n",
    "    pred = clf.predict(trainx)\n",
    "    svc_acc[kernel + 'train'] = get_acc(pred, trainy)"
   ]
  },
  {
   "cell_type": "code",
   "execution_count": 28,
   "metadata": {},
   "outputs": [
    {
     "data": {
      "text/plain": "{'poly': 0.15561959654178675, 'polytrain': 0.9998805399593836}"
     },
     "execution_count": 28,
     "metadata": {},
     "output_type": "execute_result"
    }
   ],
   "source": [
    "svc_acc"
   ]
  },
  {
   "cell_type": "markdown",
   "metadata": {},
   "outputs": [],
   "source": [
    "### KNN"
   ]
  },
  {
   "cell_type": "code",
   "execution_count": 35,
   "metadata": {},
   "outputs": [],
   "source": [
    "from sklearn.neighbors import KNeighborsClassifier"
   ]
  },
  {
   "cell_type": "code",
   "execution_count": 36,
   "metadata": {},
   "outputs": [
    {
     "name": "stdout",
     "output_type": "stream",
     "text": "Running KNN with n=2\nRunning KNN with n=3\nRunning KNN with n=4\nRunning KNN with n=5\nRunning KNN with n=6\nRunning KNN with n=7\nRunning KNN with n=8\nRunning KNN with n=9\n"
    }
   ],
   "source": [
    "test_acc = {}\n",
    "\n",
    "for num_neighbor in range(2, 10):\n",
    "    print(f'Running KNN with n={num_neighbor}')\n",
    "    \n",
    "    clf = KNeighborsClassifier(n_neighbors=num_neighbor)\n",
    "    clf.fit(trainx, trainy)\n",
    "    \n",
    "    pred = clf.predict(testx)\n",
    "    test_acc[num_neighbor] = get_acc(pred, testy)"
   ]
  },
  {
   "cell_type": "code",
   "execution_count": 37,
   "metadata": {},
   "outputs": [
    {
     "data": {
      "text/plain": "{2: 0.7214217098943324,\n 3: 0.7175792507204611,\n 4: 0.7175792507204611,\n 5: 0.7070124879923151,\n 6: 0.6974063400576369,\n 7: 0.6926032660902978,\n 8: 0.675312199807877,\n 9: 0.6618635926993276}"
     },
     "execution_count": 37,
     "metadata": {},
     "output_type": "execute_result"
    }
   ],
   "source": [
    "test_acc"
   ]
  },
  {
   "cell_type": "markdown",
   "metadata": {},
   "outputs": [],
   "source": [
    "### Nearest Centroid"
   ]
  },
  {
   "cell_type": "code",
   "metadata": {},
   "outputs": [],
   "source": [
    "from sklearn.neighbors.nearest_centroid import NearestCentroid"
   ]
  },
  {
   "cell_type": "code",
   "metadata": {},
   "outputs": [],
   "source": [
    "clf = NearestCentroid()\n",
    "clf.fit(trainx, trainy)"
   ]
  },
  {
   "cell_type": "code",
   "metadata": {},
   "outputs": [],
   "source": [
    "pred = clf.predict(testx)\n",
    "correct_pred = (pred-testy == 0).astype(int)\n",
    "acc = np.sum(correct_pred) / pred.shape[0]\n",
    "acc"
   ]
  },
  {
   "cell_type": "markdown",
   "metadata": {},
   "outputs": [],
   "source": [
    "### Lasso: linear regression"
   ]
  },
  {
   "cell_type": "code",
   "metadata": {},
   "outputs": [],
   "source": [
    "from sklearn import linear_model\n",
    "clf = linear_model.Lasso(alpha=0.1, max_iter=5000)\n",
    "clf.fit(trainx, trainy)\n",
    "pred = clf.predict(testx)\n",
    "pred = np.rint(pred)\n",
    "acc = get_acc(pred, testy)"
   ]
  },
  {
   "cell_type": "code",
   "metadata": {},
   "outputs": [],
   "source": [
    "acc"
   ]
  },
  {
   "cell_type": "markdown",
   "metadata": {},
   "outputs": [],
   "source": [
    "### Gaussian Naive Bayes"
   ]
  },
  {
   "cell_type": "code",
   "metadata": {},
   "outputs": [],
   "source": [
    "from sklearn.naive_bayes import GaussianNB\n",
    "clf = GaussianNB()\n",
    "clf.fit(trainx, trainy)\n",
    "pred = clf.predict(testx)\n",
    "acc = get_acc(pred, testy)"
   ]
  },
  {
   "cell_type": "code",
   "metadata": {},
   "outputs": [],
   "source": [
    "acc"
   ]
  },
  {
   "cell_type": "markdown",
   "metadata": {},
   "outputs": [],
   "source": [
    "### Forest of randomized trees"
   ]
  },
  {
   "cell_type": "code",
   "metadata": {},
   "outputs": [],
   "source": [
    "from sklearn.ensemble import RandomForestClassifier\n",
    "clf = RandomForestClassifier()\n",
    "clf.fit(trainx, trainy)\n",
    "pred = clf.predict(testx)\n",
    "acc = get_acc(pred, testy)"
   ]
  },
  {
   "cell_type": "code",
   "metadata": {},
   "outputs": [],
   "source": [
    "acc"
   ]
  },
  {
   "cell_type": "markdown",
   "metadata": {},
   "outputs": [],
   "source": [
    "### Basic NN (multi-layer perceptron)"
   ]
  },
  {
   "cell_type": "code",
   "metadata": {},
   "outputs": [],
   "source": [
    "from sklearn.neural_network import MLPClassifier"
   ]
  },
  {
   "cell_type": "code",
   "metadata": {},
   "outputs": [],
   "source": [
    "structures = [\n",
    "    (100,50),\n",
    "    (100,100,50),\n",
    "    (200,50),\n",
    "    (200,100,50),\n",
    "]\n",
    "\n",
    "activations = ['logistic', 'tanh', 'relu']\n",
    "\n",
    "l2_reg_const = [0.0001 * x for x in [1, 5, 10]]\n",
    "\n",
    "nn_acc = {}"
   ]
  },
  {
   "cell_type": "code",
   "metadata": {},
   "outputs": [],
   "source": [
    "for structure in structures:\n",
    "    for act in activations:\n",
    "        for alpha in l2_reg_const:\n",
    "            name = f'nn-{str(structure)}-{act}-{alpha}'\n",
    "            print(name)\n",
    "            \n",
    "            clf = MLPClassifier(\n",
    "                hidden_layer_sizes=structure,\n",
    "                activation=act,\n",
    "                alpha=alpha,\n",
    "                max_iter=5000\n",
    "            )\n",
    "            clf.fit(trainx, trainy)\n",
    "            pred = clf.predict(testx)\n",
    "            \n",
    "            nn_acc[name] = get_acc(pred, testy)"
   ]
  },
  {
   "cell_type": "code",
   "metadata": {},
   "outputs": [],
   "source": [
    "nn_acc"
   ]
  },
  {
   "cell_type": "code",
   "metadata": {},
   "outputs": [],
   "source": []
  },
  {
   "cell_type": "code",
   "metadata": {},
   "outputs": [],
   "source": []
  },
  {
   "cell_type": "code",
   "metadata": {},
   "outputs": [],
   "source": []
  }
 ],
 "metadata": {
  "kernelspec": {
   "display_name": "Python 3",
   "language": "python",
   "name": "python3"
  },
  "language_info": {
   "codemirror_mode": {
    "name": "ipython",
    "version": 3
   },
   "file_extension": ".py",
   "mimetype": "text/x-python",
   "name": "python",
   "nbconvert_exporter": "python",
   "pygments_lexer": "ipython3",
   "version": "3.7.5"
  }
 },
 "nbformat": 4,
 "nbformat_minor": 2
}