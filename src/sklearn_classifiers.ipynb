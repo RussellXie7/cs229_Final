{
 "cells": [
  {
   "cell_type": "code",
   "execution_count": 46,
   "metadata": {},
   "outputs": [],
   "source": [
    "from sklearn.model_selection import train_test_split\n",
    "import numpy as np\n",
    "import data_loader"
   ]
  },
  {
   "cell_type": "markdown",
   "metadata": {},
   "source": [
    "### setup"
   ]
  },
  {
   "cell_type": "code",
   "execution_count": 47,
   "metadata": {},
   "outputs": [
    {
     "name": "stdout",
     "output_type": "stream",
     "text": [
      "albert\n",
      "chaonan_12_5\n",
      "daniel\n",
      "haobin_11_22\n",
      "isa_12_5\n",
      "janet\n",
      "joanne\n",
      "kelly_11_7\n",
      "kevin_11_7\n",
      "ruocheng\n",
      "russell_11_20_stand\n",
      "russell_11_7\n",
      "solomon\n",
      "wenzhou_12_5\n",
      "yiheng_11_30\n",
      "yongxu_11_30\n"
     ]
    }
   ],
   "source": [
    "xs, ys = data_loader.verified_subjects_calibrated_yprs(resampled=True, flatten=True)\n",
    "xs = np.array(xs)\n",
    "ys = np.array(ys)\n",
    "trainx, testx, trainy, testy = train_test_split(xs, ys, test_size=0.2)"
   ]
  },
  {
   "cell_type": "code",
   "execution_count": 48,
   "metadata": {},
   "outputs": [],
   "source": [
    "# train_subjects = data_loader.VERIFIED_SUBJECTS[:-2]\n",
    "# test_subjects = data_loader.VERIFIED_SUBJECTS[-2:]\n",
    "# train_subjects , test_subjects"
   ]
  },
  {
   "cell_type": "code",
   "execution_count": 49,
   "metadata": {},
   "outputs": [],
   "source": [
    "# trainx, trainy = data_loader.verified_subjects_calibrated_yprs(resampled=True, flatten=True, subjects=train_subjects)\n",
    "# testx, testy = data_loader.verified_subjects_calibrated_yprs(resampled=True, flatten=True, subjects=test_subjects)\n",
    "# trainx = np.array(trainx)\n",
    "# trainy = np.array(trainy)\n",
    "# testx = np.array(testx)\n",
    "# testy = np.array(testy)"
   ]
  },
  {
   "cell_type": "code",
   "execution_count": 50,
   "metadata": {},
   "outputs": [
    {
     "data": {
      "text/plain": [
       "((6425, 300), (6425,), (1607, 300), (1607,))"
      ]
     },
     "execution_count": 50,
     "metadata": {},
     "output_type": "execute_result"
    }
   ],
   "source": [
    "trainx.shape, trainy.shape, testx.shape, testy.shape"
   ]
  },
  {
   "cell_type": "code",
   "execution_count": 51,
   "metadata": {},
   "outputs": [],
   "source": [
    "def get_acc(pred, testy):\n",
    "    correct_pred = (pred-testy == 0).astype(int)\n",
    "    acc = np.sum(correct_pred) / pred.shape[0]\n",
    "    return acc"
   ]
  },
  {
   "cell_type": "markdown",
   "metadata": {},
   "source": [
    "### SVM"
   ]
  },
  {
   "cell_type": "code",
   "execution_count": 52,
   "metadata": {},
   "outputs": [],
   "source": [
    "from sklearn import svm"
   ]
  },
  {
   "cell_type": "code",
   "execution_count": 53,
   "metadata": {},
   "outputs": [
    {
     "name": "stdout",
     "output_type": "stream",
     "text": [
      "Training svc with poly kernel\n"
     ]
    }
   ],
   "source": [
    "kernels = ['poly']\n",
    "svc_acc = {}\n",
    "\n",
    "for kernel in kernels:\n",
    "    print(f'Training svc with {kernel} kernel')\n",
    "    clf = svm.SVC(kernel=kernel, gamma='auto', max_iter=25000)\n",
    "    clf.fit(trainx, trainy)\n",
    "    pred = clf.predict(testx)\n",
    "    svc_acc[kernel] = get_acc(pred, testy)"
   ]
  },
  {
   "cell_type": "code",
   "execution_count": 54,
   "metadata": {},
   "outputs": [
    {
     "data": {
      "text/plain": [
       "{'poly': 0.6770379589296827}"
      ]
     },
     "execution_count": 54,
     "metadata": {},
     "output_type": "execute_result"
    }
   ],
   "source": [
    "svc_acc"
   ]
  },
  {
   "cell_type": "markdown",
   "metadata": {},
   "source": [
    "### KNN"
   ]
  },
  {
   "cell_type": "code",
   "execution_count": 55,
   "metadata": {},
   "outputs": [],
   "source": [
    "from sklearn.neighbors import KNeighborsClassifier"
   ]
  },
  {
   "cell_type": "code",
   "execution_count": 56,
   "metadata": {},
   "outputs": [
    {
     "name": "stdout",
     "output_type": "stream",
     "text": [
      "Running KNN with n=2\n",
      "Running KNN with n=3\n",
      "Running KNN with n=4\n",
      "Running KNN with n=5\n",
      "Running KNN with n=6\n",
      "Running KNN with n=7\n",
      "Running KNN with n=8\n",
      "Running KNN with n=9\n"
     ]
    }
   ],
   "source": [
    "test_acc = {}\n",
    "\n",
    "for num_neighbor in range(2, 10):\n",
    "    print(f'Running KNN with n={num_neighbor}')\n",
    "    \n",
    "    clf = KNeighborsClassifier(n_neighbors=num_neighbor)\n",
    "    clf.fit(trainx, trainy)\n",
    "    \n",
    "    pred = clf.predict(testx)\n",
    "    test_acc[num_neighbor] = get_acc(pred, testy)"
   ]
  },
  {
   "cell_type": "code",
   "execution_count": 57,
   "metadata": {},
   "outputs": [
    {
     "data": {
      "text/plain": [
       "{2: 0.7554449284380834,\n",
       " 3: 0.7747355320472931,\n",
       " 4: 0.761045426260112,\n",
       " 5: 0.760423148724331,\n",
       " 6: 0.7573117610454263,\n",
       " 7: 0.7479775980087119,\n",
       " 8: 0.7380211574362165,\n",
       " 9: 0.7255756067205974}"
      ]
     },
     "execution_count": 57,
     "metadata": {},
     "output_type": "execute_result"
    }
   ],
   "source": [
    "test_acc"
   ]
  },
  {
   "cell_type": "markdown",
   "metadata": {},
   "source": [
    "### Nearest Centroid"
   ]
  },
  {
   "cell_type": "code",
   "execution_count": 58,
   "metadata": {},
   "outputs": [],
   "source": [
    "from sklearn.neighbors.nearest_centroid import NearestCentroid"
   ]
  },
  {
   "cell_type": "code",
   "execution_count": 59,
   "metadata": {},
   "outputs": [
    {
     "data": {
      "text/plain": [
       "NearestCentroid(metric='euclidean', shrink_threshold=None)"
      ]
     },
     "execution_count": 59,
     "metadata": {},
     "output_type": "execute_result"
    }
   ],
   "source": [
    "clf = NearestCentroid()\n",
    "clf.fit(trainx, trainy)"
   ]
  },
  {
   "cell_type": "code",
   "execution_count": 60,
   "metadata": {},
   "outputs": [
    {
     "data": {
      "text/plain": [
       "0.11200995644057249"
      ]
     },
     "execution_count": 60,
     "metadata": {},
     "output_type": "execute_result"
    }
   ],
   "source": [
    "pred = clf.predict(testx)\n",
    "correct_pred = (pred-testy == 0).astype(int)\n",
    "acc = np.sum(correct_pred) / pred.shape[0]\n",
    "acc"
   ]
  },
  {
   "cell_type": "markdown",
   "metadata": {},
   "source": [
    "### Lasso: linear regression"
   ]
  },
  {
   "cell_type": "code",
   "execution_count": 61,
   "metadata": {},
   "outputs": [],
   "source": [
    "from sklearn import linear_model\n",
    "clf = linear_model.Lasso(alpha=0.1, max_iter=5000)\n",
    "clf.fit(trainx, trainy)\n",
    "pred = clf.predict(testx)\n",
    "pred = np.rint(pred)\n",
    "acc = get_acc(pred, testy)"
   ]
  },
  {
   "cell_type": "code",
   "execution_count": 62,
   "metadata": {},
   "outputs": [
    {
     "data": {
      "text/plain": [
       "0.05164903546981954"
      ]
     },
     "execution_count": 62,
     "metadata": {},
     "output_type": "execute_result"
    }
   ],
   "source": [
    "acc"
   ]
  },
  {
   "cell_type": "markdown",
   "metadata": {},
   "source": [
    "### Gaussian Naive Bayes"
   ]
  },
  {
   "cell_type": "code",
   "execution_count": 63,
   "metadata": {},
   "outputs": [],
   "source": [
    "from sklearn.naive_bayes import GaussianNB\n",
    "clf = GaussianNB()\n",
    "clf.fit(trainx, trainy)\n",
    "pred = clf.predict(testx)\n",
    "acc = get_acc(pred, testy)"
   ]
  },
  {
   "cell_type": "code",
   "execution_count": 64,
   "metadata": {},
   "outputs": [
    {
     "data": {
      "text/plain": [
       "0.14561294337274425"
      ]
     },
     "execution_count": 64,
     "metadata": {},
     "output_type": "execute_result"
    }
   ],
   "source": [
    "acc"
   ]
  },
  {
   "cell_type": "markdown",
   "metadata": {},
   "source": [
    "### Forest of randomized trees"
   ]
  },
  {
   "cell_type": "code",
   "execution_count": 65,
   "metadata": {},
   "outputs": [
    {
     "name": "stderr",
     "output_type": "stream",
     "text": [
      "/Users/junshenchen/anaconda3/envs/cs229proj-mac/lib/python3.7/site-packages/sklearn/ensemble/forest.py:245: FutureWarning: The default value of n_estimators will change from 10 in version 0.20 to 100 in 0.22.\n",
      "  \"10 in version 0.20 to 100 in 0.22.\", FutureWarning)\n"
     ]
    }
   ],
   "source": [
    "from sklearn.ensemble import RandomForestClassifier\n",
    "clf = RandomForestClassifier()\n",
    "clf.fit(trainx, trainy)\n",
    "pred = clf.predict(testx)\n",
    "acc = get_acc(pred, testy)"
   ]
  },
  {
   "cell_type": "code",
   "execution_count": 66,
   "metadata": {},
   "outputs": [
    {
     "data": {
      "text/plain": [
       "0.5650280024891101"
      ]
     },
     "execution_count": 66,
     "metadata": {},
     "output_type": "execute_result"
    }
   ],
   "source": [
    "acc"
   ]
  },
  {
   "cell_type": "markdown",
   "metadata": {},
   "source": [
    "### Basic NN (multi-layer perceptron)"
   ]
  },
  {
   "cell_type": "code",
   "execution_count": 67,
   "metadata": {},
   "outputs": [],
   "source": [
    "from sklearn.neural_network import MLPClassifier"
   ]
  },
  {
   "cell_type": "code",
   "execution_count": 68,
   "metadata": {},
   "outputs": [],
   "source": [
    "structures = [\n",
    "    (100,50),\n",
    "    (100,100,50),\n",
    "    (200,50),\n",
    "    (200,100,50),\n",
    "]\n",
    "\n",
    "activations = ['logistic', 'tanh', 'relu']\n",
    "\n",
    "l2_reg_const = [0.0001 * x for x in [1, 5, 10]]\n",
    "\n",
    "nn_acc = {}"
   ]
  },
  {
   "cell_type": "code",
   "execution_count": 69,
   "metadata": {},
   "outputs": [
    {
     "name": "stdout",
     "output_type": "stream",
     "text": [
      "nn-(100, 50)-logistic-0.0001\n",
      "nn-(100, 50)-logistic-0.0005\n",
      "nn-(100, 50)-logistic-0.001\n",
      "nn-(100, 50)-tanh-0.0001\n",
      "nn-(100, 50)-tanh-0.0005\n",
      "nn-(100, 50)-tanh-0.001\n",
      "nn-(100, 50)-relu-0.0001\n",
      "nn-(100, 50)-relu-0.0005\n",
      "nn-(100, 50)-relu-0.001\n",
      "nn-(100, 100, 50)-logistic-0.0001\n",
      "nn-(100, 100, 50)-logistic-0.0005\n",
      "nn-(100, 100, 50)-logistic-0.001\n",
      "nn-(100, 100, 50)-tanh-0.0001\n",
      "nn-(100, 100, 50)-tanh-0.0005\n",
      "nn-(100, 100, 50)-tanh-0.001\n",
      "nn-(100, 100, 50)-relu-0.0001\n",
      "nn-(100, 100, 50)-relu-0.0005\n",
      "nn-(100, 100, 50)-relu-0.001\n",
      "nn-(200, 50)-logistic-0.0001\n",
      "nn-(200, 50)-logistic-0.0005\n",
      "nn-(200, 50)-logistic-0.001\n",
      "nn-(200, 50)-tanh-0.0001\n",
      "nn-(200, 50)-tanh-0.0005\n",
      "nn-(200, 50)-tanh-0.001\n",
      "nn-(200, 50)-relu-0.0001\n",
      "nn-(200, 50)-relu-0.0005\n",
      "nn-(200, 50)-relu-0.001\n",
      "nn-(200, 100, 50)-logistic-0.0001\n",
      "nn-(200, 100, 50)-logistic-0.0005\n",
      "nn-(200, 100, 50)-logistic-0.001\n",
      "nn-(200, 100, 50)-tanh-0.0001\n",
      "nn-(200, 100, 50)-tanh-0.0005\n",
      "nn-(200, 100, 50)-tanh-0.001\n",
      "nn-(200, 100, 50)-relu-0.0001\n",
      "nn-(200, 100, 50)-relu-0.0005\n",
      "nn-(200, 100, 50)-relu-0.001\n"
     ]
    }
   ],
   "source": [
    "for structure in structures:\n",
    "    for act in activations:\n",
    "        for alpha in l2_reg_const:\n",
    "            name = f'nn-{str(structure)}-{act}-{alpha}'\n",
    "            print(name)\n",
    "            \n",
    "            clf = MLPClassifier(\n",
    "                hidden_layer_sizes=structure,\n",
    "                activation=act,\n",
    "                alpha=alpha,\n",
    "                max_iter=5000\n",
    "            )\n",
    "            clf.fit(trainx, trainy)\n",
    "            pred = clf.predict(testx)\n",
    "            \n",
    "            nn_acc[name] = get_acc(pred, testy)"
   ]
  },
  {
   "cell_type": "code",
   "execution_count": 70,
   "metadata": {},
   "outputs": [
    {
     "data": {
      "text/plain": [
       "{'nn-(100, 50)-logistic-0.0001': 0.5743621655258245,\n",
       " 'nn-(100, 50)-logistic-0.0005': 0.5892968263845675,\n",
       " 'nn-(100, 50)-logistic-0.001': 0.5799626633478532,\n",
       " 'nn-(100, 50)-tanh-0.0001': 0.47666459240821407,\n",
       " 'nn-(100, 50)-tanh-0.0005': 0.492221530802738,\n",
       " 'nn-(100, 50)-tanh-0.001': 0.4878655880522713,\n",
       " 'nn-(100, 50)-relu-0.0001': 0.6596141879278158,\n",
       " 'nn-(100, 50)-relu-0.0005': 0.6533914125700062,\n",
       " 'nn-(100, 50)-relu-0.001': 0.6365899191039204,\n",
       " 'nn-(100, 100, 50)-logistic-0.0001': 0.4953329184816428,\n",
       " 'nn-(100, 100, 50)-logistic-0.0005': 0.46172993154947106,\n",
       " 'nn-(100, 100, 50)-logistic-0.001': 0.4940883634100809,\n",
       " 'nn-(100, 100, 50)-tanh-0.0001': 0.5488487865588052,\n",
       " 'nn-(100, 100, 50)-tanh-0.0005': 0.552582451773491,\n",
       " 'nn-(100, 100, 50)-tanh-0.001': 0.6036092097075295,\n",
       " 'nn-(100, 100, 50)-relu-0.0001': 0.7056627255756067,\n",
       " 'nn-(100, 100, 50)-relu-0.0005': 0.6981953951462352,\n",
       " 'nn-(100, 100, 50)-relu-0.001': 0.6820161792159303,\n",
       " 'nn-(200, 50)-logistic-0.0001': 0.6204107031736155,\n",
       " 'nn-(200, 50)-logistic-0.0005': 0.6216552582451773,\n",
       " 'nn-(200, 50)-logistic-0.001': 0.6241443683883012,\n",
       " 'nn-(200, 50)-tanh-0.0001': 0.5308027380211574,\n",
       " 'nn-(200, 50)-tanh-0.0005': 0.5152457996266335,\n",
       " 'nn-(200, 50)-tanh-0.001': 0.5420037336652147,\n",
       " 'nn-(200, 50)-relu-0.0001': 0.6689483509645302,\n",
       " 'nn-(200, 50)-relu-0.0005': 0.686372121966397,\n",
       " 'nn-(200, 50)-relu-0.001': 0.6490354698195395,\n",
       " 'nn-(200, 100, 50)-logistic-0.0001': 0.551337896701929,\n",
       " 'nn-(200, 100, 50)-logistic-0.0005': 0.5295581829495956,\n",
       " 'nn-(200, 100, 50)-logistic-0.001': 0.6036092097075295,\n",
       " 'nn-(200, 100, 50)-tanh-0.0001': 0.5992532669570628,\n",
       " 'nn-(200, 100, 50)-tanh-0.0005': 0.6017423771001866,\n",
       " 'nn-(200, 100, 50)-tanh-0.001': 0.611076540136901,\n",
       " 'nn-(200, 100, 50)-relu-0.0001': 0.7106409458618543,\n",
       " 'nn-(200, 100, 50)-relu-0.0005': 0.7037958929682638,\n",
       " 'nn-(200, 100, 50)-relu-0.001': 0.7143746110765401}"
      ]
     },
     "execution_count": 70,
     "metadata": {},
     "output_type": "execute_result"
    }
   ],
   "source": [
    "nn_acc"
   ]
  },
  {
   "cell_type": "code",
   "execution_count": null,
   "metadata": {},
   "outputs": [],
   "source": []
  },
  {
   "cell_type": "code",
   "execution_count": null,
   "metadata": {},
   "outputs": [],
   "source": []
  },
  {
   "cell_type": "code",
   "execution_count": null,
   "metadata": {},
   "outputs": [],
   "source": []
  }
 ],
 "metadata": {
  "kernelspec": {
   "display_name": "Python 3",
   "language": "python",
   "name": "python3"
  },
  "language_info": {
   "codemirror_mode": {
    "name": "ipython",
    "version": 3
   },
   "file_extension": ".py",
   "mimetype": "text/x-python",
   "name": "python",
   "nbconvert_exporter": "python",
   "pygments_lexer": "ipython3",
   "version": "3.7.5"
  }
 },
 "nbformat": 4,
 "nbformat_minor": 2
}
